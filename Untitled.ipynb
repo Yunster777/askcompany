{
 "cells": [
  {
   "cell_type": "code",
   "execution_count": 2,
   "id": "043a3111-12c6-4d73-a1f5-05b3bdf18596",
   "metadata": {},
   "outputs": [],
   "source": [
    "import os\n",
    "os.environ['DJANGO_SETTINGS_MODULE'] = 'config.settings'\n",
    "os.environ['DJANGO_ALLOW_ASYNC_UNSAFE'] = 'true'\n",
    "\n",
    "import django\n",
    "django.setup()"
   ]
  },
  {
   "cell_type": "code",
   "execution_count": 3,
   "id": "3e97d9c9-d459-4acb-a260-47b44e290010",
   "metadata": {},
   "outputs": [],
   "source": [
    "from instagram.models import Post"
   ]
  },
  {
   "cell_type": "code",
   "execution_count": 11,
   "id": "9e9e7473-4698-495d-965d-92d05a14d71c",
   "metadata": {},
   "outputs": [
    {
     "name": "stdout",
     "output_type": "stream",
     "text": [
      "SELECT \"instagram_post\".\"id\", \"instagram_post\".\"message\", \"instagram_post\".\"photo\", \"instagram_post\".\"is_public\", \"instagram_post\".\"created_at\", \"instagram_post\".\"updated_at\" FROM \"instagram_post\" ORDER BY \"instagram_post\".\"id\" DESC LIMIT 10\n"
     ]
    },
    {
     "data": {
      "text/plain": [
       "<QuerySet [<Post: 세 번째 메세지!>, <Post: 두 번째 메세지!>, <Post: 첫 번째 메세지!>]>"
      ]
     },
     "execution_count": 11,
     "metadata": {},
     "output_type": "execute_result"
    }
   ],
   "source": [
    "qs = Post.objects.all().order_by('-id')\n",
    "print(qs.query)\n",
    "qs"
   ]
  },
  {
   "cell_type": "code",
   "execution_count": 13,
   "id": "a26dd5eb-3518-429b-b85e-adb783c3421e",
   "metadata": {},
   "outputs": [
    {
     "name": "stdout",
     "output_type": "stream",
     "text": [
      "SELECT \"instagram_post\".\"id\", \"instagram_post\".\"message\", \"instagram_post\".\"photo\", \"instagram_post\".\"is_public\", \"instagram_post\".\"created_at\", \"instagram_post\".\"updated_at\" FROM \"instagram_post\" ORDER BY \"instagram_post\".\"id\" DESC LIMIT 2\n"
     ]
    },
    {
     "data": {
      "text/plain": [
       "<QuerySet [<Post: 세 번째 메세지!>, <Post: 두 번째 메세지!>]>"
      ]
     },
     "execution_count": 13,
     "metadata": {},
     "output_type": "execute_result"
    }
   ],
   "source": [
    "qs = Post.objects.all().order_by('-id')[:2]\n",
    "print(qs.query)\n",
    "qs"
   ]
  },
  {
   "cell_type": "code",
   "execution_count": 16,
   "id": "c5ed63f2-7e5b-42b3-aeee-b428b79809f6",
   "metadata": {},
   "outputs": [
    {
     "name": "stdout",
     "output_type": "stream",
     "text": [
      "id: 3, message: 세 번째 메세지! 2023-10-25 06:39:36.965169+00:00\n",
      "id: 2, message: 두 번째 메세지! 2023-10-25 06:39:32.458235+00:00\n"
     ]
    }
   ],
   "source": [
    "for post in qs:\n",
    "    # print(post.id, post.message, post.created_at)\n",
    "    print('id: {id}, message: {message} {created_at}'.format(**post.__dict__))"
   ]
  },
  {
   "cell_type": "code",
   "execution_count": null,
   "id": "ceca39cc-f112-4cc2-92d0-a41e13249568",
   "metadata": {},
   "outputs": [],
   "source": []
  },
  {
   "cell_type": "code",
   "execution_count": 28,
   "id": "79ce343c-a4d2-4e47-85f0-d4fcc96d05b1",
   "metadata": {},
   "outputs": [
    {
     "name": "stdout",
     "output_type": "stream",
     "text": [
      "SELECT \"instagram_post\".\"id\", \"instagram_post\".\"message\", \"instagram_post\".\"photo\", \"instagram_post\".\"is_public\", \"instagram_post\".\"created_at\", \"instagram_post\".\"updated_at\" FROM \"instagram_post\" WHERE \"instagram_post\".\"message\" LIKE %첫 번째% ESCAPE '\\' ORDER BY \"instagram_post\".\"id\" DESC\n"
     ]
    }
   ],
   "source": [
    "query= '첫 번째'\n",
    "qs = Post.objects.all()\\\n",
    "    .filter(message__icontains=query)\\\n",
    "    .order_by('-id')\n",
    "print(qs.query)"
   ]
  },
  {
   "cell_type": "code",
   "execution_count": null,
   "id": "b81e8e4c-09c3-499f-89cd-b721de0c0fc3",
   "metadata": {},
   "outputs": [],
   "source": []
  },
  {
   "cell_type": "code",
   "execution_count": 43,
   "id": "3ff8773a-7dbd-4ec3-a629-a47d0521e277",
   "metadata": {},
   "outputs": [
    {
     "data": {
      "text/plain": [
       "<QuerySet [<Post: 첫 번째 메세지!>, <Post: 두 번째 메세지!>]>"
      ]
     },
     "execution_count": 43,
     "metadata": {},
     "output_type": "execute_result"
    }
   ],
   "source": [
    "qs = Post.objects.all()\n",
    "\n",
    "qs.filter(id__lte=2)"
   ]
  },
  {
   "cell_type": "code",
   "execution_count": 50,
   "id": "8a14c227-636f-4854-8ca1-7bc2bd0468d2",
   "metadata": {},
   "outputs": [
    {
     "data": {
      "text/plain": [
       "<QuerySet []>"
      ]
     },
     "execution_count": 50,
     "metadata": {},
     "output_type": "execute_result"
    }
   ],
   "source": [
    "qs.none()"
   ]
  },
  {
   "cell_type": "code",
   "execution_count": null,
   "id": "f9c42b5f-32b2-40f0-b5fe-3731db21f153",
   "metadata": {},
   "outputs": [],
   "source": []
  },
  {
   "cell_type": "code",
   "execution_count": 51,
   "id": "239561a6-e77f-4b5b-bbe5-c9d95f5c6828",
   "metadata": {},
   "outputs": [],
   "source": [
    "from django.db.models import Q"
   ]
  },
  {
   "cell_type": "code",
   "execution_count": 55,
   "id": "971894b4-497d-40ac-a3ba-cc76ca2a10a1",
   "metadata": {},
   "outputs": [
    {
     "name": "stdout",
     "output_type": "stream",
     "text": [
      "SELECT \"instagram_post\".\"id\", \"instagram_post\".\"message\", \"instagram_post\".\"photo\", \"instagram_post\".\"is_public\", \"instagram_post\".\"created_at\", \"instagram_post\".\"updated_at\" FROM \"instagram_post\" WHERE NOT (\"instagram_post\".\"message\" LIKE %첫 번째% ESCAPE '\\')\n"
     ]
    }
   ],
   "source": [
    "query= '첫 번째'\n",
    "qs = Post.objects.all()\n",
    "qs = qs.exclude(message__icontains=query)\n",
    "print(qs.query)"
   ]
  },
  {
   "cell_type": "code",
   "execution_count": 56,
   "id": "f6551e10-d104-4afc-8c83-7cb0a07228e0",
   "metadata": {},
   "outputs": [
    {
     "data": {
      "text/plain": [
       "<QuerySet [<Post: 두 번째 메세지!>, <Post: 세 번째 메세지!>]>"
      ]
     },
     "execution_count": 56,
     "metadata": {},
     "output_type": "execute_result"
    }
   ],
   "source": [
    "qs"
   ]
  },
  {
   "cell_type": "code",
   "execution_count": null,
   "id": "dce4eeda-f150-423c-a19c-a08b24cfde53",
   "metadata": {},
   "outputs": [],
   "source": []
  }
 ],
 "metadata": {
  "kernelspec": {
   "display_name": "Python 3 (ipykernel)",
   "language": "python",
   "name": "python3"
  },
  "language_info": {
   "codemirror_mode": {
    "name": "ipython",
    "version": 3
   },
   "file_extension": ".py",
   "mimetype": "text/x-python",
   "name": "python",
   "nbconvert_exporter": "python",
   "pygments_lexer": "ipython3",
   "version": "3.11.4"
  }
 },
 "nbformat": 4,
 "nbformat_minor": 5
}
